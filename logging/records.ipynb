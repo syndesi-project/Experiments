{
 "cells": [
  {
   "cell_type": "markdown",
   "metadata": {},
   "source": [
    "By default, the logging module doesn't store anything, this means that it can be used at every step of the way in the syndesi code"
   ]
  },
  {
   "cell_type": "code",
   "execution_count": 26,
   "metadata": {},
   "outputs": [],
   "source": [
    "%reset"
   ]
  },
  {
   "cell_type": "code",
   "execution_count": 1,
   "metadata": {},
   "outputs": [],
   "source": [
    "import logging\n",
    "from time import sleep\n",
    "#logging.basicConfig(level=logging.WARNING, filename='test.log')"
   ]
  },
  {
   "cell_type": "code",
   "execution_count": null,
   "metadata": {},
   "outputs": [],
   "source": [
    "class ExtraKeyFilter(logging.Filter):\n",
    "    def __init__(self, key):\n",
    "        super().__init__()\n",
    "        self.key = key\n",
    "\n",
    "    def filter(self, record):\n",
    "        return self.key in record.__dict__['extra']\n",
    "\n",
    "# Add handler and filter\n",
    "handler = logging.StreamHandler()\n",
    "handler.setLevel(logging.INFO)\n",
    "handler.addFilter(ExtraKeyFilter('my_extra_key'))\n",
    "logger.addHandler(handler)\n",
    "\n",
    "# Log some messages with extra keys\n",
    "logger.info('Message with extra key', extra={'my_extra_key': 'extra_value'})\n",
    "logger.info('Another message without extra key')"
   ]
  },
  {
   "cell_type": "code",
   "execution_count": 6,
   "metadata": {},
   "outputs": [],
   "source": [
    "logger = logging.getLogger('test_logger')\n",
    "\n",
    "\n",
    "logging.basicConfig(filename='myapp.log', level=logging.INFO)\n",
    "logger.info('Started')\n",
    "logging.info('test')\n",
    "sleep(1)\n",
    "logging.info('test 2')\n",
    "logger.info('Finished')"
   ]
  },
  {
   "cell_type": "code",
   "execution_count": 4,
   "metadata": {},
   "outputs": [],
   "source": [
    "logging.info('A')\n",
    "logging.info('B')\n",
    "logging.info('C')"
   ]
  },
  {
   "cell_type": "code",
   "execution_count": 22,
   "metadata": {},
   "outputs": [],
   "source": [
    "logger = logging.getLogger()"
   ]
  },
  {
   "cell_type": "code",
   "execution_count": 11,
   "metadata": {},
   "outputs": [],
   "source": [
    "for N in range(100):\n",
    "    logging.info(f'test {N}')"
   ]
  },
  {
   "cell_type": "code",
   "execution_count": 12,
   "metadata": {},
   "outputs": [
    {
     "name": "stderr",
     "output_type": "stream",
     "text": [
      "ERROR:root:test 0\n",
      "ERROR:root:test 1\n",
      "ERROR:root:test 2\n",
      "ERROR:root:test 3\n",
      "ERROR:root:test 4\n",
      "ERROR:root:test 5\n",
      "ERROR:root:test 6\n",
      "ERROR:root:test 7\n",
      "ERROR:root:test 8\n",
      "ERROR:root:test 9\n",
      "ERROR:root:test 10\n",
      "ERROR:root:test 11\n",
      "ERROR:root:test 12\n",
      "ERROR:root:test 13\n",
      "ERROR:root:test 14\n",
      "ERROR:root:test 15\n",
      "ERROR:root:test 16\n",
      "ERROR:root:test 17\n",
      "ERROR:root:test 18\n",
      "ERROR:root:test 19\n",
      "ERROR:root:test 20\n",
      "ERROR:root:test 21\n",
      "ERROR:root:test 22\n",
      "ERROR:root:test 23\n",
      "ERROR:root:test 24\n",
      "ERROR:root:test 25\n",
      "ERROR:root:test 26\n",
      "ERROR:root:test 27\n",
      "ERROR:root:test 28\n",
      "ERROR:root:test 29\n",
      "ERROR:root:test 30\n",
      "ERROR:root:test 31\n",
      "ERROR:root:test 32\n",
      "ERROR:root:test 33\n",
      "ERROR:root:test 34\n",
      "ERROR:root:test 35\n",
      "ERROR:root:test 36\n",
      "ERROR:root:test 37\n",
      "ERROR:root:test 38\n",
      "ERROR:root:test 39\n",
      "ERROR:root:test 40\n",
      "ERROR:root:test 41\n",
      "ERROR:root:test 42\n",
      "ERROR:root:test 43\n",
      "ERROR:root:test 44\n",
      "ERROR:root:test 45\n",
      "ERROR:root:test 46\n",
      "ERROR:root:test 47\n",
      "ERROR:root:test 48\n",
      "ERROR:root:test 49\n",
      "ERROR:root:test 50\n",
      "ERROR:root:test 51\n",
      "ERROR:root:test 52\n",
      "ERROR:root:test 53\n",
      "ERROR:root:test 54\n",
      "ERROR:root:test 55\n",
      "ERROR:root:test 56\n",
      "ERROR:root:test 57\n",
      "ERROR:root:test 58\n",
      "ERROR:root:test 59\n",
      "ERROR:root:test 60\n",
      "ERROR:root:test 61\n",
      "ERROR:root:test 62\n",
      "ERROR:root:test 63\n",
      "ERROR:root:test 64\n",
      "ERROR:root:test 65\n",
      "ERROR:root:test 66\n",
      "ERROR:root:test 67\n",
      "ERROR:root:test 68\n",
      "ERROR:root:test 69\n",
      "ERROR:root:test 70\n",
      "ERROR:root:test 71\n",
      "ERROR:root:test 72\n",
      "ERROR:root:test 73\n",
      "ERROR:root:test 74\n",
      "ERROR:root:test 75\n",
      "ERROR:root:test 76\n",
      "ERROR:root:test 77\n",
      "ERROR:root:test 78\n",
      "ERROR:root:test 79\n",
      "ERROR:root:test 80\n",
      "ERROR:root:test 81\n",
      "ERROR:root:test 82\n",
      "ERROR:root:test 83\n",
      "ERROR:root:test 84\n",
      "ERROR:root:test 85\n",
      "ERROR:root:test 86\n",
      "ERROR:root:test 87\n",
      "ERROR:root:test 88\n",
      "ERROR:root:test 89\n",
      "ERROR:root:test 90\n",
      "ERROR:root:test 91\n",
      "ERROR:root:test 92\n",
      "ERROR:root:test 93\n",
      "ERROR:root:test 94\n",
      "ERROR:root:test 95\n",
      "ERROR:root:test 96\n",
      "ERROR:root:test 97\n",
      "ERROR:root:test 98\n",
      "ERROR:root:test 99\n"
     ]
    }
   ],
   "source": [
    "for N in range(100):\n",
    "    logging.error(f'test {N}')"
   ]
  }
 ],
 "metadata": {
  "kernelspec": {
   "display_name": "Python 3.10.8 64-bit",
   "language": "python",
   "name": "python3"
  },
  "language_info": {
   "codemirror_mode": {
    "name": "ipython",
    "version": 3
   },
   "file_extension": ".py",
   "mimetype": "text/x-python",
   "name": "python",
   "nbconvert_exporter": "python",
   "pygments_lexer": "ipython3",
   "version": "3.10.8"
  },
  "orig_nbformat": 4,
  "vscode": {
   "interpreter": {
    "hash": "8cd3152f4879b6e4936de3697bb04770010940e83c8d45f157c523163664f5a7"
   }
  }
 },
 "nbformat": 4,
 "nbformat_minor": 2
}
